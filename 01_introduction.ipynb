{
 "cells": [
  {
   "cell_type": "markdown",
   "source": [
    "# Edit / Levenshtein distance\n",
    "\n",
    "-----\n",
    "\n",
    "The Levenshtein distance between two words is the **minimum number of single-character edits** (_insertions, deletions or substitutions_) required to change one word into the other.\n"
   ],
   "metadata": {
    "collapsed": false,
    "pycharm": {
     "name": "#%% md\n"
    }
   }
  },
  {
   "cell_type": "markdown",
   "source": [
    "#### Wagner–Fischer algorithm\n",
    "\n",
    "-----\n",
    "\n",
    "The Wagner–Fischer algorithm is a **dynamic programming** algorithm that computes the edit distance between two strings of characters.\n",
    "\n",
    "\n",
    "![https://stackoverflow.com/questions/30792428/wagner-fischer-algorithm](https://i.stack.imgur.com/uB1w0.gif)"
   ],
   "metadata": {
    "collapsed": false,
    "pycharm": {
     "name": "#%% md\n"
    }
   }
  },
  {
   "cell_type": "code",
   "execution_count": 3,
   "outputs": [],
   "source": [
    "import numpy\n",
    "\n",
    "def find_edit_distance(str1, str2):\n",
    "    str1_len = len(str1) + 1\n",
    "    str2_len = len(str2) + 1\n",
    "    dist_matrix = numpy.zeros((str1_len, str2_len))\n",
    "\n",
    "    for i in range(str1_len):\n",
    "        dist_matrix[i, 0] = i\n",
    "    for j in range(str2_len):\n",
    "        dist_matrix[0, j] = j\n",
    "\n",
    "    for i in range(1, str1_len):\n",
    "        for j in range(1, str2_len):\n",
    "            dist_matrix[i, j] = min(\n",
    "                dist_matrix[i - 1, j - 1] +\n",
    "                    (0 if str1[i - 1] == str2[j - 1] else 1),\n",
    "                dist_matrix[i - 1, j] + 1,\n",
    "                dist_matrix[i, j - 1] + 1\n",
    "            )\n",
    "\n",
    "    return dist_matrix[len(str1), len(str2)]"
   ],
   "metadata": {
    "collapsed": false,
    "pycharm": {
     "name": "#%%\n"
    }
   }
  },
  {
   "cell_type": "markdown",
   "source": [
    "#### Example:\n",
    "\n",
    "\n",
    "\n",
    "\n",
    "  |     |     |  S  |  a  |  t  |  u  |  r  |  d  |  a  |  y  |\n",
    "  |:----|:---:|:---:|:---:|:---:|:---:|:---:|:---:|:---:|----:|\n",
    "  |     | 0   |1    |2    |3\t|4\t  |5    |6    |\t7   |  8  |\n",
    "  |S\t| 1\t  |0\t|1\t  |2\t|3\t  |4\t|5\t  |6\t|  7  |\n",
    "  |u\t| 2\t  |1\t|1\t  |2\t|2\t  |3\t|4\t  |5\t|  6  |\n",
    "  |n \t| 3\t  |2\t|2\t  |2\t|3\t  |3\t|4\t  |5\t|  6  |\n",
    "  |d\t| 4\t  |3\t|3\t  |3\t|3\t  |4\t|3\t  |4\t|  5  |\n",
    "  |a\t| 5\t  |4\t|3\t  |4\t|4\t  |4\t|4\t  |3\t|  4  |\n",
    "  |y\t| 6\t  |5\t|4\t  |4\t|5\t  |5\t|5\t  |4\t|  3  |"
   ],
   "metadata": {
    "collapsed": false,
    "pycharm": {
     "name": "#%% md\n"
    }
   }
  },
  {
   "cell_type": "code",
   "execution_count": 4,
   "outputs": [
    {
     "data": {
      "text/plain": "3.0"
     },
     "execution_count": 4,
     "metadata": {},
     "output_type": "execute_result"
    }
   ],
   "source": [
    "find_edit_distance(\"Saturday\", \"Sunday\")"
   ],
   "metadata": {
    "collapsed": false,
    "pycharm": {
     "name": "#%%\n"
    }
   }
  }
 ],
 "metadata": {
  "kernelspec": {
   "display_name": "Python 3",
   "language": "python",
   "name": "python3"
  },
  "language_info": {
   "codemirror_mode": {
    "name": "ipython",
    "version": 2
   },
   "file_extension": ".py",
   "mimetype": "text/x-python",
   "name": "python",
   "nbconvert_exporter": "python",
   "pygments_lexer": "ipython2",
   "version": "2.7.6"
  }
 },
 "nbformat": 4,
 "nbformat_minor": 0
}
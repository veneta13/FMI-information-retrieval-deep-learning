{
 "cells": [
  {
   "cell_type": "markdown",
   "source": [
    "# Edit / Levenshtein distance\n",
    "\n",
    "-----\n",
    "\n",
    "The Levenshtein distance between two words is the **minimum number of single-character edits** (_insertions, deletions or substitutions_) required to change one word into the other.\n"
   ],
   "metadata": {
    "collapsed": false,
    "pycharm": {
     "name": "#%% md\n"
    }
   }
  },
  {
   "cell_type": "markdown",
   "source": [
    "#### Wagner–Fischer algorithm\n",
    "\n",
    "-----\n",
    "\n",
    "The Wagner–Fischer algorithm is a **dynamic programming** algorithm that computes the edit distance between two strings of characters.\n",
    "\n",
    "\n",
    "![https://stackoverflow.com/questions/30792428/wagner-fischer-algorithm](https://i.stack.imgur.com/uB1w0.gif)"
   ],
   "metadata": {
    "collapsed": false,
    "pycharm": {
     "name": "#%% md\n"
    }
   }
  },
  {
   "cell_type": "code",
   "execution_count": 6,
   "outputs": [],
   "source": [
    "import numpy\n",
    "\n",
    "def find_edit_distance(str1, str2):\n",
    "    str1_len = len(str1) + 1\n",
    "    str2_len = len(str2) + 1\n",
    "    dist_matrix = numpy.zeros((str1_len, str2_len))\n",
    "\n",
    "    for i in range(str1_len):\n",
    "        dist_matrix[i, 0] = i\n",
    "    for j in range(str2_len):\n",
    "        dist_matrix[0, j] = j\n",
    "\n",
    "    for i in range(1, str1_len):\n",
    "        for j in range(1, str2_len):\n",
    "            dist_matrix[i, j] = min(\n",
    "                dist_matrix[i - 1, j - 1] +\n",
    "                    (0 if str1[i - 1] == str2[j - 1] else 1),\n",
    "                dist_matrix[i - 1, j] + 1,\n",
    "                dist_matrix[i, j - 1] + 1\n",
    "            )\n",
    "\n",
    "    return dist_matrix[len(str1), len(str2)]"
   ],
   "metadata": {
    "collapsed": false,
    "pycharm": {
     "name": "#%%\n"
    }
   }
  },
  {
   "cell_type": "code",
   "execution_count": 8,
   "outputs": [
    {
     "data": {
      "text/plain": "3.0"
     },
     "execution_count": 8,
     "metadata": {},
     "output_type": "execute_result"
    }
   ],
   "source": [
    "# \t\t    S   a   t   u   r   d   a   y\n",
    "#       0   1\t2\t3\t4\t5\t6\t7\t8\n",
    "#   S\t1\t0\t1\t2\t3\t4\t5\t6\t7\n",
    "#   u\t2\t1\t1\t2\t2\t3\t4\t5\t6\n",
    "#   n\t3\t2\t2\t2\t3\t3\t4\t5\t6\n",
    "#   d\t4\t3\t3\t3\t3\t4\t3\t4\t5\n",
    "#   a\t5\t4\t3\t4\t4\t4\t4\t3\t4\n",
    "#   y\t6\t5\t4\t4\t5\t5\t5\t4\t3\n",
    "\n",
    "\n",
    "find_edit_distance(\"Saturday\", \"Sunday\")"
   ],
   "metadata": {
    "collapsed": false,
    "pycharm": {
     "name": "#%%\n"
    }
   }
  }
 ],
 "metadata": {
  "kernelspec": {
   "display_name": "Python 3",
   "language": "python",
   "name": "python3"
  },
  "language_info": {
   "codemirror_mode": {
    "name": "ipython",
    "version": 2
   },
   "file_extension": ".py",
   "mimetype": "text/x-python",
   "name": "python",
   "nbconvert_exporter": "python",
   "pygments_lexer": "ipython2",
   "version": "2.7.6"
  }
 },
 "nbformat": 4,
 "nbformat_minor": 0
}